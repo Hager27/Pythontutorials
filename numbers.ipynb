{
 "cells": [
  {
   "cell_type": "code",
   "execution_count": 4,
   "id": "d354966b-abe1-435b-8bb9-3a6e6ec55b2e",
   "metadata": {},
   "outputs": [
    {
     "name": "stdout",
     "output_type": "stream",
     "text": [
      "datatype of num_int: <class 'int'>\n",
      "datatype of num_float: <class 'float'>\n",
      "value of num_new: 124.23\n",
      "datatype of num_new: <class 'float'>\n"
     ]
    }
   ],
   "source": [
    "#Implicit type conversion\n",
    "num_int = 123\n",
    "num_float =1.23\n",
    "num_new = num_int + num_float\n",
    "print(\"datatype of num_int:\", type(num_int))\n",
    "print(\"datatype of num_float:\", type(num_float))\n",
    "print(\"value of num_new:\", num_new)\n",
    "print(\"datatype of num_new:\", type(num_new))"
   ]
  },
  {
   "cell_type": "code",
   "execution_count": 7,
   "id": "f50deaf1-8b09-439a-a89f-745218046229",
   "metadata": {},
   "outputs": [
    {
     "ename": "TypeError",
     "evalue": "unsupported operand type(s) for +: 'int' and 'str'",
     "output_type": "error",
     "traceback": [
      "\u001b[1;31m---------------------------------------------------------------------------\u001b[0m",
      "\u001b[1;31mTypeError\u001b[0m                                 Traceback (most recent call last)",
      "\u001b[1;32m~\\AppData\\Local\\Temp/ipykernel_2268/2820307294.py\u001b[0m in \u001b[0;36m<module>\u001b[1;34m\u001b[0m\n\u001b[0;32m      2\u001b[0m \u001b[0mnum_int\u001b[0m \u001b[1;33m=\u001b[0m \u001b[1;36m123\u001b[0m\u001b[1;33m\u001b[0m\u001b[1;33m\u001b[0m\u001b[0m\n\u001b[0;32m      3\u001b[0m \u001b[0mnum_str\u001b[0m \u001b[1;33m=\u001b[0m \u001b[1;34m\"860\"\u001b[0m\u001b[1;33m\u001b[0m\u001b[1;33m\u001b[0m\u001b[0m\n\u001b[1;32m----> 4\u001b[1;33m \u001b[0mnum_new\u001b[0m \u001b[1;33m=\u001b[0m \u001b[0mnum_int\u001b[0m \u001b[1;33m+\u001b[0m \u001b[0mnum_str\u001b[0m\u001b[1;33m\u001b[0m\u001b[1;33m\u001b[0m\u001b[0m\n\u001b[0m\u001b[0;32m      5\u001b[0m \u001b[0mprint\u001b[0m\u001b[1;33m(\u001b[0m\u001b[1;34m\"datatype of num_int:\"\u001b[0m\u001b[1;33m,\u001b[0m \u001b[0mtype\u001b[0m\u001b[1;33m(\u001b[0m\u001b[0mnum_int\u001b[0m\u001b[1;33m)\u001b[0m\u001b[1;33m)\u001b[0m\u001b[1;33m\u001b[0m\u001b[1;33m\u001b[0m\u001b[0m\n\u001b[0;32m      6\u001b[0m \u001b[0mprint\u001b[0m\u001b[1;33m(\u001b[0m\u001b[1;34m\"datatype of num_str:\"\u001b[0m\u001b[1;33m,\u001b[0m \u001b[0mtype\u001b[0m\u001b[1;33m(\u001b[0m\u001b[0mnum_str\u001b[0m\u001b[1;33m)\u001b[0m\u001b[1;33m)\u001b[0m\u001b[1;33m\u001b[0m\u001b[1;33m\u001b[0m\u001b[0m\n",
      "\u001b[1;31mTypeError\u001b[0m: unsupported operand type(s) for +: 'int' and 'str'"
     ]
    }
   ],
   "source": [
    "#Additional datatype than string(higher) and int(lower)\n",
    "num_int = 123\n",
    "num_str = \"860\"\n",
    "num_new = num_int + num_str\n",
    "print(\"datatype of num_int:\", type(num_int))\n",
    "print(\"datatype of num_str:\", type(num_str))\n",
    "print(\"value of num_new:\", num_new)\n",
    "print(\"datatype of num_new:\", type(num_new))"
   ]
  },
  {
   "cell_type": "code",
   "execution_count": 12,
   "id": "25f6a563-ee5f-449f-8dc7-21928454e0ce",
   "metadata": {},
   "outputs": [
    {
     "name": "stdout",
     "output_type": "stream",
     "text": [
      "datatype of num_int: <class 'int'>\n",
      "datatype of num_str before Type casting: <class 'str'>\n",
      "datatype of num_str after Type casting: <class 'int'>\n",
      "sum of num_int and num_str: 4300\n",
      "datatype of num_sum: <class 'int'>\n"
     ]
    }
   ],
   "source": [
    "#expilicit conversion\n",
    "\n",
    "num_int = 123\n",
    "num_str =\"4177\"\n",
    "num_new = num_int + num_float\n",
    "print(\"datatype of num_int:\", type(num_int))\n",
    "print(\"datatype of num_str before Type casting:\", type(num_str))\n",
    "num_str = int(num_str)#converting string to int\n",
    "print(\"datatype of num_str after Type casting:\", type(num_str))\n",
    "num_sum = num_int + num_str\n",
    "print(\"sum of num_int and num_str:\", num_sum)\n",
    "print(\"datatype of num_sum:\", type(num_sum))"
   ]
  },
  {
   "cell_type": "code",
   "execution_count": 13,
   "id": "38d0f4ee-27cd-4952-bb7b-37471f6eaed7",
   "metadata": {},
   "outputs": [
    {
     "name": "stdout",
     "output_type": "stream",
     "text": [
      "<class 'int'>\n",
      "True\n",
      "False\n",
      "False\n"
     ]
    }
   ],
   "source": [
    "value = 100\n",
    "print(type(value))\n",
    "print(isinstance(value,int))\n",
    "print(isinstance(value,float))\n",
    "print(isinstance(value,complex))"
   ]
  },
  {
   "cell_type": "code",
   "execution_count": 14,
   "id": "79cf2e48-f0fd-47eb-a220-91d5f8a27b43",
   "metadata": {},
   "outputs": [
    {
     "name": "stdout",
     "output_type": "stream",
     "text": [
      "<class 'float'>\n",
      "False\n",
      "True\n",
      "False\n"
     ]
    }
   ],
   "source": [
    "value = 100.33\n",
    "print(type(value))\n",
    "print(isinstance(value,int))\n",
    "print(isinstance(value,float))\n",
    "print(isinstance(value,complex))"
   ]
  },
  {
   "cell_type": "code",
   "execution_count": 15,
   "id": "85e1ab23-eddd-48f8-967d-2d478f18d794",
   "metadata": {},
   "outputs": [
    {
     "name": "stdout",
     "output_type": "stream",
     "text": [
      "<class 'complex'>\n",
      "False\n",
      "False\n",
      "True\n"
     ]
    }
   ],
   "source": [
    "value = 50 +5j\n",
    "print(type(value))\n",
    "print(isinstance(value,int))\n",
    "print(isinstance(value,float))\n",
    "print(isinstance(value,complex))"
   ]
  },
  {
   "cell_type": "code",
   "execution_count": 16,
   "id": "7bb76ae0-a038-487d-8bed-e24e6f80929b",
   "metadata": {},
   "outputs": [
    {
     "name": "stdout",
     "output_type": "stream",
     "text": [
      "13\n",
      "171\n",
      "19\n"
     ]
    }
   ],
   "source": [
    "#octal base 8\n",
    "print(0b1101)\n",
    "#hex with the base 16\n",
    "print(0xab)\n",
    "print(0o23)"
   ]
  },
  {
   "cell_type": "code",
   "execution_count": 17,
   "id": "b505ca96-bdc3-4c31-9cef-be46a809bd0a",
   "metadata": {},
   "outputs": [
    {
     "name": "stdout",
     "output_type": "stream",
     "text": [
      "22.5\n"
     ]
    }
   ],
   "source": [
    "#implicitly converted to float\n",
    "#since one of value is float\n",
    "print(10 +12.5)"
   ]
  },
  {
   "cell_type": "code",
   "execution_count": 18,
   "id": "2e5052c9-1748-4158-95e3-46e0b7e06549",
   "metadata": {},
   "outputs": [
    {
     "name": "stdout",
     "output_type": "stream",
     "text": [
      "11\n",
      "-11\n",
      "110.0\n"
     ]
    }
   ],
   "source": [
    "#Type Conversion\n",
    "print(int(11.2))\n",
    "print(int(-11.999))\n",
    "print(float(110))\n"
   ]
  },
  {
   "cell_type": "code",
   "execution_count": 25,
   "id": "068d14f4-afdd-4463-ab53-407f391762ed",
   "metadata": {},
   "outputs": [
    {
     "name": "stdout",
     "output_type": "stream",
     "text": [
      "0.5\n",
      "0.5\n",
      "4.0\n"
     ]
    }
   ],
   "source": [
    "#python decimal \n",
    "from decimal import Decimal as D\n",
    "print(0.5)\n",
    "print(D(0.5))\n",
    "print(D('1.2')+ D('2.8'))"
   ]
  },
  {
   "cell_type": "code",
   "execution_count": 27,
   "id": "127c4edd-eaca-44f1-ba9c-6e918c21ca3b",
   "metadata": {},
   "outputs": [
    {
     "name": "stdout",
     "output_type": "stream",
     "text": [
      "3/2\n",
      "5\n"
     ]
    }
   ],
   "source": [
    "#PYTHON FRACTIONS\n",
    "from fractions import Fraction as F\n",
    "print(F(1.5))\n",
    "print(F(5))\n",
    "#print(F(1,5)"
   ]
  },
  {
   "cell_type": "code",
   "execution_count": 30,
   "id": "19ae2acf-4237-4b16-bac0-ac0b05867f71",
   "metadata": {},
   "outputs": [
    {
     "name": "stdout",
     "output_type": "stream",
     "text": [
      "3.141592653589793\n",
      "0.9129452507276277\n",
      "0.40808206181339196\n",
      "3628800\n",
      "0.6483608274590866\n",
      "2.302585092994046\n",
      "1.0\n",
      "11013.232874703393\n",
      "10686474581524.463\n"
     ]
    }
   ],
   "source": [
    "#math \n",
    "import math\n",
    "print(math.pi)\n",
    "print(math.sin(20))\n",
    "print(math.cos(20))\n",
    "print(math.factorial(10))\n",
    "print(math.tan(10))\n",
    "print(math.log(10))\n",
    "print(math.log10(10))\n",
    "print(math.sinh(10))\n",
    "print(math.exp(30))"
   ]
  },
  {
   "cell_type": "code",
   "execution_count": 35,
   "id": "ce7adc82-bcfc-4803-a361-23e4b3782b95",
   "metadata": {},
   "outputs": [
    {
     "name": "stdout",
     "output_type": "stream",
     "text": [
      "Random number ->  7\n",
      "Random number ->  19\n",
      "Random number ->  13\n",
      "Random number ->  22\n",
      "Random number ->  18\n"
     ]
    }
   ],
   "source": [
    "#random module in python\n",
    "import random\n",
    "print('Random number -> ',random.randrange(5,25))\n",
    "print('Random number -> ',random.randrange(5,25))\n",
    "print('Random number -> ',random.randrange(5,25))\n",
    "print('Random number -> ',random.randrange(5,25))\n",
    "print('Random number -> ',random.randrange(5,25))"
   ]
  },
  {
   "cell_type": "code",
   "execution_count": 8,
   "id": "5cdb5ec9-90f1-4c26-89cb-5820a2e87fed",
   "metadata": {},
   "outputs": [
    {
     "name": "stdout",
     "output_type": "stream",
     "text": [
      "Tue\n",
      "['sunday', 'Mon', 'Tue', 'Wed', 'Thu', 'Fri', 'Sat']\n",
      "['Sat', 'sunday', 'Thu', 'Tue', 'Mon', 'Fri', 'Wed']\n",
      "0.2585314725749459\n"
     ]
    }
   ],
   "source": [
    "import random\n",
    "day = ['sunday','Mon','Tue','Wed','Thu','Fri','Sat']\n",
    "print(random.choice(day))\n",
    "\n",
    "print(day)\n",
    "random.shuffle(day)\n",
    "print(day)\n",
    "# print random element\n",
    "print(random.random())"
   ]
  },
  {
   "cell_type": "code",
   "execution_count": null,
   "id": "7a6e1447-3d18-43e0-8872-a3447e3fa5dc",
   "metadata": {},
   "outputs": [],
   "source": []
  },
  {
   "cell_type": "code",
   "execution_count": null,
   "id": "2c3d383d-8f6a-4c46-942f-db2a8bb3e685",
   "metadata": {},
   "outputs": [],
   "source": []
  },
  {
   "cell_type": "code",
   "execution_count": null,
   "id": "9c42128e-5690-4f5f-9e85-f5019461b69f",
   "metadata": {},
   "outputs": [],
   "source": []
  }
 ],
 "metadata": {
  "kernelspec": {
   "display_name": "Python 3 (ipykernel)",
   "language": "python",
   "name": "python3"
  },
  "language_info": {
   "codemirror_mode": {
    "name": "ipython",
    "version": 3
   },
   "file_extension": ".py",
   "mimetype": "text/x-python",
   "name": "python",
   "nbconvert_exporter": "python",
   "pygments_lexer": "ipython3",
   "version": "3.9.7"
  }
 },
 "nbformat": 4,
 "nbformat_minor": 5
}
